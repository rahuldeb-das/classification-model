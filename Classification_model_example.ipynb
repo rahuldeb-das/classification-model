{
 "cells": [
  {
   "cell_type": "code",
   "execution_count": 1,
   "metadata": {},
   "outputs": [],
   "source": [
    "import os\n",
    "import numpy as np\n",
    "import pandas as pd\n",
    "import matplotlib.pyplot as plt\n",
    "import seaborn as sns\n",
    "sns.set()\n",
    "from sklearn.model_selection import train_test_split\n",
    "from sklearn.metrics import f1_score, accuracy_score, recall_score, precision_score, confusion_matrix\n",
    "from sklearn.ensemble import RandomForestClassifier\n",
    "import itertools\n",
    "import matplotlib\n",
    "from numpy import argmax\n",
    "from sklearn.metrics import precision_recall_curve\n",
    "import pickle as pkl"
   ]
  },
  {
   "cell_type": "code",
   "execution_count": 2,
   "metadata": {},
   "outputs": [
    {
     "data": {
      "text/plain": [
       "'C:\\\\Users\\\\HP'"
      ]
     },
     "execution_count": 2,
     "metadata": {},
     "output_type": "execute_result"
    }
   ],
   "source": [
    "os.getcwd() # Check current working directory"
   ]
  },
  {
   "cell_type": "code",
   "execution_count": 3,
   "metadata": {},
   "outputs": [],
   "source": [
    "os.chdir(r\"D:\\Notebooks_scripts\\Models\") # Change working directory"
   ]
  },
  {
   "cell_type": "code",
   "execution_count": 4,
   "metadata": {},
   "outputs": [
    {
     "data": {
      "text/plain": [
       "'D:\\\\Notebooks_scripts\\\\Models'"
      ]
     },
     "execution_count": 4,
     "metadata": {},
     "output_type": "execute_result"
    }
   ],
   "source": [
    "os.getcwd() # Check current working directory"
   ]
  },
  {
   "cell_type": "markdown",
   "metadata": {},
   "source": [
    "# Data overview"
   ]
  },
  {
   "cell_type": "code",
   "execution_count": 5,
   "metadata": {},
   "outputs": [],
   "source": [
    "# Import the data\n",
    "data = pd.read_csv(r\"D:\\Notebooks_scripts\\Models\\Social_Network_Ads.csv\")"
   ]
  },
  {
   "cell_type": "code",
   "execution_count": 6,
   "metadata": {},
   "outputs": [
    {
     "data": {
      "text/plain": [
       "(400, 5)"
      ]
     },
     "execution_count": 6,
     "metadata": {},
     "output_type": "execute_result"
    }
   ],
   "source": [
    "data.shape # Check the number of rows and columns"
   ]
  },
  {
   "cell_type": "code",
   "execution_count": 7,
   "metadata": {},
   "outputs": [
    {
     "data": {
      "text/html": [
       "<div>\n",
       "<style scoped>\n",
       "    .dataframe tbody tr th:only-of-type {\n",
       "        vertical-align: middle;\n",
       "    }\n",
       "\n",
       "    .dataframe tbody tr th {\n",
       "        vertical-align: top;\n",
       "    }\n",
       "\n",
       "    .dataframe thead th {\n",
       "        text-align: right;\n",
       "    }\n",
       "</style>\n",
       "<table border=\"1\" class=\"dataframe\">\n",
       "  <thead>\n",
       "    <tr style=\"text-align: right;\">\n",
       "      <th></th>\n",
       "      <th>User ID</th>\n",
       "      <th>Gender</th>\n",
       "      <th>Age</th>\n",
       "      <th>EstimatedSalary</th>\n",
       "      <th>Purchased</th>\n",
       "    </tr>\n",
       "  </thead>\n",
       "  <tbody>\n",
       "    <tr>\n",
       "      <th>0</th>\n",
       "      <td>15624510</td>\n",
       "      <td>Male</td>\n",
       "      <td>19</td>\n",
       "      <td>19000</td>\n",
       "      <td>0</td>\n",
       "    </tr>\n",
       "    <tr>\n",
       "      <th>1</th>\n",
       "      <td>15810944</td>\n",
       "      <td>Male</td>\n",
       "      <td>35</td>\n",
       "      <td>20000</td>\n",
       "      <td>0</td>\n",
       "    </tr>\n",
       "  </tbody>\n",
       "</table>\n",
       "</div>"
      ],
      "text/plain": [
       "    User ID Gender  Age  EstimatedSalary  Purchased\n",
       "0  15624510   Male   19            19000          0\n",
       "1  15810944   Male   35            20000          0"
      ]
     },
     "execution_count": 7,
     "metadata": {},
     "output_type": "execute_result"
    }
   ],
   "source": [
    "data.head(2) # Have a galnce at the data"
   ]
  },
  {
   "cell_type": "code",
   "execution_count": 8,
   "metadata": {},
   "outputs": [],
   "source": [
    "data.columns = [\"UserID\", \"Gender\", \"Age\", \"EstimatedSalary\", \"Purchased\"]"
   ]
  },
  {
   "cell_type": "code",
   "execution_count": 9,
   "metadata": {},
   "outputs": [
    {
     "data": {
      "text/plain": [
       "Index(['UserID', 'Gender', 'Age', 'EstimatedSalary', 'Purchased'], dtype='object')"
      ]
     },
     "execution_count": 9,
     "metadata": {},
     "output_type": "execute_result"
    }
   ],
   "source": [
    "data.columns"
   ]
  },
  {
   "cell_type": "code",
   "execution_count": 10,
   "metadata": {},
   "outputs": [
    {
     "name": "stdout",
     "output_type": "stream",
     "text": [
      "<class 'pandas.core.frame.DataFrame'>\n",
      "RangeIndex: 400 entries, 0 to 399\n",
      "Data columns (total 5 columns):\n",
      " #   Column           Non-Null Count  Dtype \n",
      "---  ------           --------------  ----- \n",
      " 0   UserID           400 non-null    int64 \n",
      " 1   Gender           400 non-null    object\n",
      " 2   Age              400 non-null    int64 \n",
      " 3   EstimatedSalary  400 non-null    int64 \n",
      " 4   Purchased        400 non-null    int64 \n",
      "dtypes: int64(4), object(1)\n",
      "memory usage: 15.8+ KB\n"
     ]
    }
   ],
   "source": [
    "data.info() # Check the data types"
   ]
  },
  {
   "cell_type": "code",
   "execution_count": 11,
   "metadata": {},
   "outputs": [],
   "source": [
    "X = data[['UserID' , 'Gender', 'Age',  'EstimatedSalary']] # Separte explanatory variables\n",
    "y = data[['UserID' , 'Purchased']] # Sepearte target variable\n",
    "X_train, X_test, y_train, y_test = train_test_split(X, y, test_size = 0.20, random_state = 0) # Split into train and test set\n",
    "X_valid, X_test, y_valid, y_test = train_test_split(X_test, y_test, test_size = 0.25, random_state = 0) # Split into validation and test set\n",
    "\n",
    "train = pd.merge(X_train, y_train, on = 'UserID') # Build train set\n",
    "valid = pd.merge(X_valid, y_valid, on  = 'UserID') # Build validation set\n",
    "test = pd.merge(X_test, y_test, on  = 'UserID') # Build test set\n"
   ]
  },
  {
   "cell_type": "code",
   "execution_count": 12,
   "metadata": {},
   "outputs": [
    {
     "name": "stdout",
     "output_type": "stream",
     "text": [
      "(320, 5)\n",
      "(60, 5)\n",
      "(20, 5)\n"
     ]
    }
   ],
   "source": [
    "print(train.shape) # Check the size of the train set \n",
    "print(valid.shape) # Check the size of the valid set \n",
    "print(test.shape) # Check the size of the test set "
   ]
  },
  {
   "cell_type": "code",
   "execution_count": 13,
   "metadata": {},
   "outputs": [
    {
     "data": {
      "text/html": [
       "<div>\n",
       "<style scoped>\n",
       "    .dataframe tbody tr th:only-of-type {\n",
       "        vertical-align: middle;\n",
       "    }\n",
       "\n",
       "    .dataframe tbody tr th {\n",
       "        vertical-align: top;\n",
       "    }\n",
       "\n",
       "    .dataframe thead th {\n",
       "        text-align: right;\n",
       "    }\n",
       "</style>\n",
       "<table border=\"1\" class=\"dataframe\">\n",
       "  <thead>\n",
       "    <tr style=\"text-align: right;\">\n",
       "      <th></th>\n",
       "      <th>UserID</th>\n",
       "      <th>Gender</th>\n",
       "      <th>Age</th>\n",
       "      <th>EstimatedSalary</th>\n",
       "      <th>Purchased</th>\n",
       "    </tr>\n",
       "  </thead>\n",
       "  <tbody>\n",
       "    <tr>\n",
       "      <th>count</th>\n",
       "      <td>3.200000e+02</td>\n",
       "      <td>320</td>\n",
       "      <td>320.00000</td>\n",
       "      <td>320.000000</td>\n",
       "      <td>320.000000</td>\n",
       "    </tr>\n",
       "    <tr>\n",
       "      <th>unique</th>\n",
       "      <td>NaN</td>\n",
       "      <td>2</td>\n",
       "      <td>NaN</td>\n",
       "      <td>NaN</td>\n",
       "      <td>NaN</td>\n",
       "    </tr>\n",
       "    <tr>\n",
       "      <th>top</th>\n",
       "      <td>NaN</td>\n",
       "      <td>Female</td>\n",
       "      <td>NaN</td>\n",
       "      <td>NaN</td>\n",
       "      <td>NaN</td>\n",
       "    </tr>\n",
       "    <tr>\n",
       "      <th>freq</th>\n",
       "      <td>NaN</td>\n",
       "      <td>164</td>\n",
       "      <td>NaN</td>\n",
       "      <td>NaN</td>\n",
       "      <td>NaN</td>\n",
       "    </tr>\n",
       "    <tr>\n",
       "      <th>mean</th>\n",
       "      <td>1.569120e+07</td>\n",
       "      <td>NaN</td>\n",
       "      <td>38.21875</td>\n",
       "      <td>69928.125000</td>\n",
       "      <td>0.378125</td>\n",
       "    </tr>\n",
       "    <tr>\n",
       "      <th>std</th>\n",
       "      <td>7.058254e+04</td>\n",
       "      <td>NaN</td>\n",
       "      <td>10.30304</td>\n",
       "      <td>34570.057299</td>\n",
       "      <td>0.485679</td>\n",
       "    </tr>\n",
       "    <tr>\n",
       "      <th>min</th>\n",
       "      <td>1.556964e+07</td>\n",
       "      <td>NaN</td>\n",
       "      <td>18.00000</td>\n",
       "      <td>15000.000000</td>\n",
       "      <td>0.000000</td>\n",
       "    </tr>\n",
       "    <tr>\n",
       "      <th>25%</th>\n",
       "      <td>1.562820e+07</td>\n",
       "      <td>NaN</td>\n",
       "      <td>30.00000</td>\n",
       "      <td>43000.000000</td>\n",
       "      <td>0.000000</td>\n",
       "    </tr>\n",
       "    <tr>\n",
       "      <th>50%</th>\n",
       "      <td>1.569434e+07</td>\n",
       "      <td>NaN</td>\n",
       "      <td>38.00000</td>\n",
       "      <td>69500.000000</td>\n",
       "      <td>0.000000</td>\n",
       "    </tr>\n",
       "    <tr>\n",
       "      <th>75%</th>\n",
       "      <td>1.574919e+07</td>\n",
       "      <td>NaN</td>\n",
       "      <td>46.00000</td>\n",
       "      <td>88000.000000</td>\n",
       "      <td>1.000000</td>\n",
       "    </tr>\n",
       "    <tr>\n",
       "      <th>max</th>\n",
       "      <td>1.581524e+07</td>\n",
       "      <td>NaN</td>\n",
       "      <td>60.00000</td>\n",
       "      <td>150000.000000</td>\n",
       "      <td>1.000000</td>\n",
       "    </tr>\n",
       "  </tbody>\n",
       "</table>\n",
       "</div>"
      ],
      "text/plain": [
       "              UserID  Gender        Age  EstimatedSalary   Purchased\n",
       "count   3.200000e+02     320  320.00000       320.000000  320.000000\n",
       "unique           NaN       2        NaN              NaN         NaN\n",
       "top              NaN  Female        NaN              NaN         NaN\n",
       "freq             NaN     164        NaN              NaN         NaN\n",
       "mean    1.569120e+07     NaN   38.21875     69928.125000    0.378125\n",
       "std     7.058254e+04     NaN   10.30304     34570.057299    0.485679\n",
       "min     1.556964e+07     NaN   18.00000     15000.000000    0.000000\n",
       "25%     1.562820e+07     NaN   30.00000     43000.000000    0.000000\n",
       "50%     1.569434e+07     NaN   38.00000     69500.000000    0.000000\n",
       "75%     1.574919e+07     NaN   46.00000     88000.000000    1.000000\n",
       "max     1.581524e+07     NaN   60.00000    150000.000000    1.000000"
      ]
     },
     "execution_count": 13,
     "metadata": {},
     "output_type": "execute_result"
    }
   ],
   "source": [
    "train.describe(include = 'all')"
   ]
  },
  {
   "cell_type": "code",
   "execution_count": 14,
   "metadata": {},
   "outputs": [
    {
     "data": {
      "text/plain": [
       "UserID             0\n",
       "Gender             0\n",
       "Age                0\n",
       "EstimatedSalary    0\n",
       "Purchased          0\n",
       "dtype: int64"
      ]
     },
     "execution_count": 14,
     "metadata": {},
     "output_type": "execute_result"
    }
   ],
   "source": [
    "train.isnull().sum() # Search for missing values"
   ]
  },
  {
   "cell_type": "code",
   "execution_count": 15,
   "metadata": {},
   "outputs": [
    {
     "data": {
      "image/png": "[encoded data removed]",
      "text/plain": [
       "<Figure size 576x432 with 4 Axes>"
      ]
     },
     "metadata": {},
     "output_type": "display_data"
    }
   ],
   "source": [
    "fig, axarr = plt.subplots(2, 2, figsize=(8, 6))\n",
    "sns.distplot(train[['EstimatedSalary']],bins=10, kde=False, rug=True, ax=axarr[0][0]).set_title(\"EstimatedSalary\", fontsize=14)\n",
    "sns.distplot(train[['Age']],bins=5, kde=False, rug=True, ax=axarr[0][1]).set_title(\"Age\", fontsize=14)\n",
    "sns.countplot(x ='Gender', data = train, ax=axarr[1][0]).set_title(\"Gender\", fontsize=14)\n",
    "sns.countplot(x ='Purchased', data = train, ax=axarr[1][1]).set_title(\"Whether Purchased\", fontsize=14)\n",
    "plt.subplots_adjust(hspace=.6)\n",
    "sns.despine()"
   ]
  },
  {
   "cell_type": "code",
   "execution_count": 16,
   "metadata": {},
   "outputs": [
    {
     "data": {
      "text/plain": [
       "0    0.621875\n",
       "1    0.378125\n",
       "Name: Purchased, dtype: float64"
      ]
     },
     "execution_count": 16,
     "metadata": {},
     "output_type": "execute_result"
    }
   ],
   "source": [
    "train.Purchased.value_counts()/train.Purchased.count() # Check proportion of each classes of the target varibale in the data"
   ]
  },
  {
   "cell_type": "markdown",
   "metadata": {},
   "source": [
    "# Data exploration and feature creation"
   ]
  },
  {
   "cell_type": "code",
   "execution_count": 17,
   "metadata": {},
   "outputs": [],
   "source": [
    "df = train"
   ]
  },
  {
   "cell_type": "code",
   "execution_count": 18,
   "metadata": {},
   "outputs": [],
   "source": [
    "# Create a helper function to build histogram over the classes of the target variable\n",
    "def prehist(x):\n",
    "    yes = df[x][df['Purchased'] == 1]\n",
    "    no = df[x][df['Purchased'] == 0]\n",
    "    return yes, no"
   ]
  },
  {
   "cell_type": "code",
   "execution_count": 19,
   "metadata": {},
   "outputs": [
    {
     "data": {
      "text/plain": [
       "Text(0.5, 1.0, 'Age distribution over purchased status')"
      ]
     },
     "execution_count": 19,
     "metadata": {},
     "output_type": "execute_result"
    },
    {
     "data": {
      "image/png": "[encoded data removed]",
      "text/plain": [
       "<Figure size 576x360 with 1 Axes>"
      ]
     },
     "metadata": {},
     "output_type": "display_data"
    }
   ],
   "source": [
    "# Create a histogram of the age group of the users over the two classes of the target variable\n",
    "plt.rcParams[\"figure.figsize\"] = (8,5)\n",
    "plt.hist(prehist('Age')[1], bins=[18, 25, 30, 35, 45, 60], \n",
    "         weights=np.ones(len(prehist('Age')[1])) / len(prehist('Age')[1]), alpha=0.7, label='no', color='r')\n",
    "plt.hist(prehist('Age')[0], bins=[18, 25, 30, 35, 45, 60], \n",
    "         weights=np.ones(len(prehist('Age')[0])) / len(prehist('Age')[0]),alpha=0.6, label='yes', color='b')\n",
    "plt.title(\"Age distribution over purchased status\", fontsize=14)"
   ]
  },
  {
   "cell_type": "code",
   "execution_count": 20,
   "metadata": {},
   "outputs": [],
   "source": [
    "# Create a helper function for the age buckets\n",
    "def age_group(df) :\n",
    "    \n",
    "    if (df['Age'] >= 18) & (df['Age'] <= 25 ) :\n",
    "        return \"18-25\"\n",
    "    elif (df['Age'] > 25) & (df['Age'] <= 30 ) :\n",
    "        return \"25-30\"\n",
    "    elif (df['Age'] > 30) & (df['Age'] <= 35 ) :\n",
    "        return \"30-35\"\n",
    "    elif (df['Age'] > 35) & (df['Age'] <= 45 ) :\n",
    "        return \"35-45\"\n",
    "    elif df['Age'] > 45 :\n",
    "        return \"45-60\"   \n",
    "    \n",
    "# Create the age buckets from the age of the users\n",
    "df[\"age_group\"] = df.apply(lambda y:age_group(y), axis = 1)"
   ]
  },
  {
   "cell_type": "code",
   "execution_count": 21,
   "metadata": {},
   "outputs": [
    {
     "data": {
      "text/plain": [
       "(array([0.0661157 , 0.1322314 , 0.07438017, 0.04958678, 0.00826446,\n",
       "        0.10743802, 0.11570248, 0.17355372, 0.27272727]),\n",
       " array([ 15000,  25000,  35000,  45000,  55000,  65000,  85000, 100000,\n",
       "        120000, 150000]),\n",
       " <a list of 9 Patch objects>)"
      ]
     },
     "execution_count": 21,
     "metadata": {},
     "output_type": "execute_result"
    },
    {
     "data": {
      "image/png": "[encoded data removed]",
      "text/plain": [
       "<Figure size 576x360 with 1 Axes>"
      ]
     },
     "metadata": {},
     "output_type": "display_data"
    }
   ],
   "source": [
    "# Create a histogram of the estimated salalies of the users over the two classes of the target variable\n",
    "\n",
    "plt.rcParams[\"figure.figsize\"] = (8,5)\n",
    "plt.hist(prehist('EstimatedSalary')[1], bins=[15000, 25000, 35000, 45000, 55000, 65000, 85000, 100000, 120000,150000], \n",
    "         weights=np.ones(len(prehist('EstimatedSalary')[1])) / len(prehist('EstimatedSalary')[1]), alpha=0.7, label='no', color='r')\n",
    "plt.hist(prehist('EstimatedSalary')[0], bins=[15000, 25000, 35000, 45000, 55000, 65000, 85000, 100000, 120000, 150000], \n",
    "         weights=np.ones(len(prehist('EstimatedSalary')[0])) / len(prehist('EstimatedSalary')[0]),alpha=0.6, label='yes', color='b')"
   ]
  },
  {
   "cell_type": "code",
   "execution_count": 22,
   "metadata": {},
   "outputs": [],
   "source": [
    "# Create a helper function for the salary buckets\n",
    "def salary_group(df) :\n",
    "    \n",
    "    if (df['EstimatedSalary'] >= 15000) & (df['EstimatedSalary'] <= 25000 ) :\n",
    "        return \"15000-25000\"\n",
    "    elif (df['EstimatedSalary'] > 25000) & (df['EstimatedSalary'] <= 35000 ) :\n",
    "        return \"25000-35000\"\n",
    "    elif (df['EstimatedSalary'] > 35000) & (df['EstimatedSalary'] <= 45000 ) :\n",
    "        return \"35000-45000\"\n",
    "    elif (df['EstimatedSalary'] > 45000) & (df['EstimatedSalary'] <= 55000) :\n",
    "        return \"45000-55000\"\n",
    "    elif (df['EstimatedSalary'] > 55000) & (df['EstimatedSalary'] <= 65000) :\n",
    "        return \"55000-65000\"\n",
    "    elif (df['EstimatedSalary'] > 65000) & (df['EstimatedSalary'] <= 85000) :\n",
    "        return \"65000-85000\"\n",
    "    elif (df['EstimatedSalary'] > 85000) & (df['EstimatedSalary'] <= 100000) :\n",
    "        return \"85000-100000\"\n",
    "    elif (df['EstimatedSalary'] > 100000) & (df['EstimatedSalary'] <= 120000) :\n",
    "        return \"100000-120000\"\n",
    "    elif (df['EstimatedSalary'] > 120000) & (df['EstimatedSalary'] <= 150000) :\n",
    "        return \"120000-150000\"\n",
    "    \n",
    "# Create the salary buckets from the estimated salary of the users\n",
    "df[\"salary_group\"] = df.apply(lambda y:salary_group(y), axis = 1)"
   ]
  },
  {
   "cell_type": "code",
   "execution_count": 23,
   "metadata": {},
   "outputs": [],
   "source": [
    "# Find the gender distribution in each classes of the target variable\n",
    "lab_0 = df[\"Gender\"][df['Purchased'] == 0].value_counts().keys().tolist()\n",
    "val_0 = df[\"Gender\"][df['Purchased'] == 0].value_counts().values.tolist()\n",
    "lab_1 = df[\"Gender\"][df['Purchased'] == 1].value_counts().keys().tolist()\n",
    "val_1 = df[\"Gender\"][df['Purchased'] == 1].value_counts().values.tolist()"
   ]
  },
  {
   "cell_type": "code",
   "execution_count": 24,
   "metadata": {},
   "outputs": [
    {
     "data": {
      "text/plain": [
       "Text(0.5, 1.0, 'Gender distribution in Purchased')"
      ]
     },
     "execution_count": 24,
     "metadata": {},
     "output_type": "execute_result"
    },
    {
     "data": {
      "image/png": "[encoded data removed]",
      "text/plain": [
       "<Figure size 864x360 with 2 Axes>"
      ]
     },
     "metadata": {},
     "output_type": "display_data"
    }
   ],
   "source": [
    "fig, axarr = plt.subplots(1, 2, figsize=(12, 5))\n",
    "# Crate a pie chart for the gender distribution of the Not-Purchased class\n",
    "axarr[0].pie(val_0, labels=lab_0, colors=['red','green'], autopct='%1.1f%%')\n",
    "axarr[0].set_title(\"Gender distribution in Not-Purchased\")\n",
    "\n",
    "# Crate a pie chart for the gender distribution of the Purchased class\n",
    "axarr[1].pie(val_1, labels=lab_1, colors=['red','green'], autopct='%1.1f%%')\n",
    "axarr[1].set_title(\"Gender distribution in Purchased\")"
   ]
  },
  {
   "cell_type": "code",
   "execution_count": 26,
   "metadata": {},
   "outputs": [
    {
     "data": {
      "text/html": [
       "<div>\n",
       "<style scoped>\n",
       "    .dataframe tbody tr th:only-of-type {\n",
       "        vertical-align: middle;\n",
       "    }\n",
       "\n",
       "    .dataframe tbody tr th {\n",
       "        vertical-align: top;\n",
       "    }\n",
       "\n",
       "    .dataframe thead th {\n",
       "        text-align: right;\n",
       "    }\n",
       "</style>\n",
       "<table border=\"1\" class=\"dataframe\">\n",
       "  <thead>\n",
       "    <tr style=\"text-align: right;\">\n",
       "      <th></th>\n",
       "      <th>UserID</th>\n",
       "      <th>Gender</th>\n",
       "      <th>Age</th>\n",
       "      <th>EstimatedSalary</th>\n",
       "      <th>Purchased</th>\n",
       "      <th>age_group</th>\n",
       "      <th>salary_group</th>\n",
       "    </tr>\n",
       "  </thead>\n",
       "  <tbody>\n",
       "    <tr>\n",
       "      <th>0</th>\n",
       "      <td>15664907</td>\n",
       "      <td>Male</td>\n",
       "      <td>58</td>\n",
       "      <td>144000</td>\n",
       "      <td>1</td>\n",
       "      <td>45-60</td>\n",
       "      <td>120000-150000</td>\n",
       "    </tr>\n",
       "    <tr>\n",
       "      <th>1</th>\n",
       "      <td>15605000</td>\n",
       "      <td>Female</td>\n",
       "      <td>59</td>\n",
       "      <td>83000</td>\n",
       "      <td>0</td>\n",
       "      <td>45-60</td>\n",
       "      <td>65000-85000</td>\n",
       "    </tr>\n",
       "  </tbody>\n",
       "</table>\n",
       "</div>"
      ],
      "text/plain": [
       "     UserID  Gender  Age  EstimatedSalary  Purchased age_group   salary_group\n",
       "0  15664907    Male   58           144000          1     45-60  120000-150000\n",
       "1  15605000  Female   59            83000          0     45-60    65000-85000"
      ]
     },
     "execution_count": 26,
     "metadata": {},
     "output_type": "execute_result"
    }
   ],
   "source": [
    "df.head(2) # Have a look on the modified train set"
   ]
  },
  {
   "cell_type": "code",
   "execution_count": 27,
   "metadata": {},
   "outputs": [],
   "source": [
    "# Select age_group and salary_group instead of Age and EstimatedSalary \n",
    "df1 = df[['UserID', 'Gender', 'age_group', 'salary_group', 'Purchased']] "
   ]
  },
  {
   "cell_type": "code",
   "execution_count": 28,
   "metadata": {},
   "outputs": [],
   "source": [
    "# Create dummy variables for the each busckts of the age_group and salary_group variables\n",
    "df1 = pd.get_dummies(df1, drop_first=True) "
   ]
  },
  {
   "cell_type": "code",
   "execution_count": 29,
   "metadata": {},
   "outputs": [],
   "source": [
    "# Calculate the correlation matrix among the modified explanatory variables\n",
    "\n",
    "data_cor = df1[[ 'Gender_Male', 'age_group_25-30',\n",
    "       'age_group_30-35', 'age_group_35-45', 'age_group_45-60',\n",
    "       'salary_group_120000-150000', 'salary_group_15000-25000',\n",
    "       'salary_group_25000-35000', 'salary_group_35000-45000',\n",
    "       'salary_group_45000-55000', 'salary_group_55000-65000',\n",
    "       'salary_group_65000-85000', 'salary_group_85000-100000']]\n",
    "\n",
    "corrmat = data_cor.corr()"
   ]
  },
  {
   "cell_type": "code",
   "execution_count": 30,
   "metadata": {},
   "outputs": [
    {
     "data": {
      "text/plain": [
       "<matplotlib.axes._subplots.AxesSubplot at 0x2034b742790>"
      ]
     },
     "execution_count": 30,
     "metadata": {},
     "output_type": "execute_result"
    },
    {
     "data": {
      "image/png": "[encoded data removed]",
      "text/plain": [
       "<Figure size 648x576 with 2 Axes>"
      ]
     },
     "metadata": {},
     "output_type": "display_data"
    }
   ],
   "source": [
    "# Plot the correlation among the modified explanatory variables\n",
    "f, ax = plt.subplots(figsize =(9, 8)) \n",
    "sns.heatmap(corrmat, ax = ax, cmap =\"YlGnBu\", linewidths = 0.1)"
   ]
  },
  {
   "cell_type": "code",
   "execution_count": 31,
   "metadata": {},
   "outputs": [],
   "source": [
    "train = df1 # Rename the modified train set"
   ]
  },
  {
   "cell_type": "code",
   "execution_count": 32,
   "metadata": {},
   "outputs": [
    {
     "data": {
      "text/plain": [
       "(320, 15)"
      ]
     },
     "execution_count": 32,
     "metadata": {},
     "output_type": "execute_result"
    }
   ],
   "source": [
    "train.shape # Recheck the size of the train set"
   ]
  },
  {
   "cell_type": "markdown",
   "metadata": {},
   "source": [
    "# Feature creation for test and the validation data "
   ]
  },
  {
   "cell_type": "code",
   "execution_count": 33,
   "metadata": {},
   "outputs": [],
   "source": [
    "valid[\"age_group\"] = valid.apply(lambda y:age_group(y), axis = 1) # create age buckets for the validation set\n",
    "test[\"age_group\"] = test.apply(lambda y:age_group(y), axis = 1) # create age buckets for the test set"
   ]
  },
  {
   "cell_type": "code",
   "execution_count": 34,
   "metadata": {},
   "outputs": [
    {
     "data": {
      "text/plain": [
       "(60, 6)"
      ]
     },
     "execution_count": 34,
     "metadata": {},
     "output_type": "execute_result"
    }
   ],
   "source": [
    "valid.shape"
   ]
  },
  {
   "cell_type": "code",
   "execution_count": 35,
   "metadata": {},
   "outputs": [
    {
     "data": {
      "text/plain": [
       "(20, 6)"
      ]
     },
     "execution_count": 35,
     "metadata": {},
     "output_type": "execute_result"
    }
   ],
   "source": [
    "test.shape"
   ]
  },
  {
   "cell_type": "code",
   "execution_count": 36,
   "metadata": {},
   "outputs": [],
   "source": [
    "valid[\"salary_group\"] = valid.apply(lambda y:salary_group(y), axis = 1) # Create salary buckets for the validation set\n",
    "test[\"salary_group\"] = test.apply(lambda y:salary_group(y), axis = 1) # Create salary buckets for the test set"
   ]
  },
  {
   "cell_type": "code",
   "execution_count": 37,
   "metadata": {},
   "outputs": [
    {
     "data": {
      "text/plain": [
       "UserID             60\n",
       "Gender              2\n",
       "Age                29\n",
       "EstimatedSalary    45\n",
       "Purchased           2\n",
       "age_group           5\n",
       "salary_group        9\n",
       "dtype: int64"
      ]
     },
     "execution_count": 37,
     "metadata": {},
     "output_type": "execute_result"
    }
   ],
   "source": [
    "valid.nunique()"
   ]
  },
  {
   "cell_type": "code",
   "execution_count": 38,
   "metadata": {},
   "outputs": [
    {
     "data": {
      "text/plain": [
       "UserID             20\n",
       "Gender              2\n",
       "Age                14\n",
       "EstimatedSalary    18\n",
       "Purchased           2\n",
       "age_group           5\n",
       "salary_group        6\n",
       "dtype: int64"
      ]
     },
     "execution_count": 38,
     "metadata": {},
     "output_type": "execute_result"
    }
   ],
   "source": [
    "test.nunique()"
   ]
  },
  {
   "cell_type": "code",
   "execution_count": 39,
   "metadata": {},
   "outputs": [],
   "source": [
    "# Select age_group and salary_group instead of Age and Estimated Salary \n",
    "valid = valid[['UserID', 'Gender', 'age_group', 'salary_group', 'Purchased']]  \n",
    "test = test[['UserID', 'Gender', 'age_group', 'salary_group', 'Purchased']]  "
   ]
  },
  {
   "cell_type": "code",
   "execution_count": 40,
   "metadata": {},
   "outputs": [],
   "source": [
    "# Create dummy variables for the each busckts of the age_group and salary_group variables\n",
    "valid = pd.get_dummies(valid, drop_first=True) \n",
    "test = pd.get_dummies(test, drop_first=True) "
   ]
  },
  {
   "cell_type": "markdown",
   "metadata": {},
   "source": [
    "# Model fitting"
   ]
  },
  {
   "cell_type": "code",
   "execution_count": 41,
   "metadata": {},
   "outputs": [],
   "source": [
    "# Make a list of all the vraibles needed for modeling\n",
    "label = 'Purchased'\n",
    "id_col = 'UserID'\n",
    "\n",
    "features = ['Gender_Male', 'age_group_25-30',\n",
    "       'age_group_30-35', 'age_group_35-45', 'age_group_45-60',\n",
    "       'salary_group_120000-150000', 'salary_group_15000-25000',\n",
    "       'salary_group_25000-35000', 'salary_group_35000-45000',\n",
    "       'salary_group_45000-55000', 'salary_group_55000-65000',\n",
    "       'salary_group_65000-85000', 'salary_group_85000-100000']"
   ]
  },
  {
   "cell_type": "code",
   "execution_count": 42,
   "metadata": {},
   "outputs": [],
   "source": [
    "# Separte the explanatory variables and the target variable in train and validation set\n",
    "X_train = train[features]\n",
    "y_train = train[label]\n",
    "X_valid = valid[features]\n",
    "y_valid = valid[label]"
   ]
  },
  {
   "cell_type": "code",
   "execution_count": 43,
   "metadata": {},
   "outputs": [
    {
     "data": {
      "text/plain": [
       "(60, 13)"
      ]
     },
     "execution_count": 43,
     "metadata": {},
     "output_type": "execute_result"
    }
   ],
   "source": [
    "X_valid.shape"
   ]
  },
  {
   "cell_type": "code",
   "execution_count": 44,
   "metadata": {},
   "outputs": [],
   "source": [
    "model = RandomForestClassifier() # Define the classifier "
   ]
  },
  {
   "cell_type": "code",
   "execution_count": 45,
   "metadata": {},
   "outputs": [
    {
     "data": {
      "text/plain": [
       "RandomForestClassifier()"
      ]
     },
     "execution_count": 45,
     "metadata": {},
     "output_type": "execute_result"
    }
   ],
   "source": [
    "model.fit(X_train, y_train) # Fit the slected classification mlodel"
   ]
  },
  {
   "cell_type": "code",
   "execution_count": 46,
   "metadata": {},
   "outputs": [],
   "source": [
    "# save the model\n",
    "pkl.dump(model, open(r\"D:\\Notebooks_scripts\\Models\\model.pickle\", 'wb'))"
   ]
  },
  {
   "cell_type": "code",
   "execution_count": 47,
   "metadata": {},
   "outputs": [],
   "source": [
    "# load the model form pickle file\n",
    "model = pkl.load(open(r\"D:\\Notebooks_scripts\\Models\\model.pickle\", 'rb'))"
   ]
  },
  {
   "cell_type": "code",
   "execution_count": 48,
   "metadata": {},
   "outputs": [],
   "source": [
    "predicted_labels_valid = model.predict(X_valid) # Predict the target classes for the validation set"
   ]
  },
  {
   "cell_type": "code",
   "execution_count": 49,
   "metadata": {},
   "outputs": [],
   "source": [
    "# Calculate the confusion matrix of the validation set prediction\n",
    "cm = confusion_matrix(y_valid, predicted_labels_valid)"
   ]
  },
  {
   "cell_type": "code",
   "execution_count": 50,
   "metadata": {},
   "outputs": [],
   "source": [
    "# Helper function for plotting the confusion matrix\n",
    "\n",
    "def plot_confusion_matrix(cm, classes, normalize=False,\n",
    "                          title='Confusion matrix',\n",
    "                          cmap=plt.cm.Blues):\n",
    "    \"\"\"\n",
    "    This function prints and plots the confusion matrix.\n",
    "    Normalization can be applied by setting `normalize=True`.\n",
    "    \"\"\"\n",
    "    if normalize:\n",
    "        cm = cm.astype('float') / cm.sum(axis=1)[:, np.newaxis]\n",
    "        print(\"Normalized confusion matrix\")\n",
    "    else:\n",
    "        print('Confusion matrix, without normalization')\n",
    "\n",
    "    #print(cm)\n",
    "\n",
    "    plt.imshow(cm, interpolation='nearest', cmap=cmap)\n",
    "    plt.title(title)\n",
    "    plt.colorbar()\n",
    "    #plt.figure(figsize=(3,4))\n",
    "    #plt.figure(figsize=(5,5))\n",
    "    tick_marks = np.arange(len(classes))\n",
    "    plt.xticks(tick_marks, classes, rotation=45)\n",
    "    plt.yticks(tick_marks, classes)\n",
    "\n",
    "    fmt = '.2f' if normalize else 'd'\n",
    "    thresh = cm.max() / 2.\n",
    "    for i, j in itertools.product(range(cm.shape[0]), range(cm.shape[1])):\n",
    "        plt.text(j, i, format(cm[i, j], fmt),\n",
    "                 horizontalalignment=\"center\",\n",
    "                 color=\"white\" if cm[i, j] > thresh else \"black\")\n",
    "\n",
    "    plt.ylabel('True label')\n",
    "    plt.xlabel('Predicted label')\n",
    "    plt.tight_layout()"
   ]
  },
  {
   "cell_type": "code",
   "execution_count": 51,
   "metadata": {},
   "outputs": [
    {
     "name": "stdout",
     "output_type": "stream",
     "text": [
      "Confusion matrix, without normalization\n"
     ]
    },
    {
     "data": {
      "image/png": "[encoded data removed]",
      "text/plain": [
       "<Figure size 288x288 with 2 Axes>"
      ]
     },
     "metadata": {},
     "output_type": "display_data"
    }
   ],
   "source": [
    "# Make a beautiful plot of the confusion matrix for the validation set prediction\n",
    "\n",
    "plt.rcParams[\"figure.figsize\"] = [4,4]\n",
    "classes = [0,1]\n",
    "\n",
    "#classes,\n",
    "fig = plot_confusion_matrix(cm, classes,\n",
    "                          normalize=False,\n",
    "                          title='Confusion matrix, without normalization',\n",
    "                          cmap=plt.cm.Blues)"
   ]
  },
  {
   "cell_type": "code",
   "execution_count": 52,
   "metadata": {},
   "outputs": [
    {
     "data": {
      "text/plain": [
       "0.8421052631578947"
      ]
     },
     "execution_count": 52,
     "metadata": {},
     "output_type": "execute_result"
    }
   ],
   "source": [
    "recall_score(y_valid, predicted_labels_valid) # Calculate the recall of the validation set prediction"
   ]
  },
  {
   "cell_type": "code",
   "execution_count": 53,
   "metadata": {},
   "outputs": [
    {
     "data": {
      "text/plain": [
       "0.8"
      ]
     },
     "execution_count": 53,
     "metadata": {},
     "output_type": "execute_result"
    }
   ],
   "source": [
    "precision_score(y_valid, predicted_labels_valid) # Calculate the precision of the validation set prediction"
   ]
  },
  {
   "cell_type": "code",
   "execution_count": 54,
   "metadata": {},
   "outputs": [
    {
     "data": {
      "text/plain": [
       "0.8205128205128205"
      ]
     },
     "execution_count": 54,
     "metadata": {},
     "output_type": "execute_result"
    }
   ],
   "source": [
    "f1_score(y_valid, predicted_labels_valid) # Calculate the f1_score of the validation set prediction"
   ]
  },
  {
   "cell_type": "code",
   "execution_count": 55,
   "metadata": {},
   "outputs": [
    {
     "data": {
      "text/plain": [
       "0.8833333333333333"
      ]
     },
     "execution_count": 55,
     "metadata": {},
     "output_type": "execute_result"
    }
   ],
   "source": [
    "accuracy_score(y_valid, predicted_labels_valid) # Calculate the accuracy of the validation set prediction"
   ]
  },
  {
   "cell_type": "markdown",
   "metadata": {},
   "source": [
    "# Precision Recall Curve"
   ]
  },
  {
   "cell_type": "code",
   "execution_count": 56,
   "metadata": {},
   "outputs": [],
   "source": [
    "# predict probabilities for the validation data\n",
    "yhat = model.predict_proba(X_valid)"
   ]
  },
  {
   "cell_type": "code",
   "execution_count": 57,
   "metadata": {},
   "outputs": [],
   "source": [
    "# keep probabilities for the positive outcome only\n",
    "yhat = yhat[:, 1]"
   ]
  },
  {
   "cell_type": "code",
   "execution_count": 58,
   "metadata": {},
   "outputs": [],
   "source": [
    "# calculate the precision-recall curve parameters\n",
    "precision, recall, thresholds = precision_recall_curve(y_valid, yhat)"
   ]
  },
  {
   "cell_type": "code",
   "execution_count": 59,
   "metadata": {},
   "outputs": [],
   "source": [
    "# convert to f score\n",
    "fscore = (2 * precision * recall) / (precision + recall)"
   ]
  },
  {
   "cell_type": "code",
   "execution_count": 60,
   "metadata": {},
   "outputs": [
    {
     "name": "stdout",
     "output_type": "stream",
     "text": [
      "Best Threshold=0.695452, F-Score=0.889\n",
      "Best Threshold=0.695452, Precsion=0.941\n",
      "Best Threshold=0.695452, Recall=0.842\n"
     ]
    }
   ],
   "source": [
    "# locate the index of the largest f score\n",
    "ix = argmax(fscore)\n",
    "print('Best Threshold=%f, F-Score=%.3f' % (thresholds[ix], fscore[ix]))\n",
    "print('Best Threshold=%f, Precsion=%.3f' % (thresholds[ix], precision[ix]))\n",
    "print('Best Threshold=%f, Recall=%.3f' % (thresholds[ix], recall[ix]))"
   ]
  },
  {
   "cell_type": "code",
   "execution_count": 61,
   "metadata": {},
   "outputs": [
    {
     "data": {
      "image/png": "[encoded data removed]",
      "text/plain": [
       "<Figure size 288x288 with 1 Axes>"
      ]
     },
     "metadata": {},
     "output_type": "display_data"
    }
   ],
   "source": [
    "# plot the precision-recall curve for the model\n",
    "random_guess = len(y_valid[y_valid==1]) / len(y_valid)\n",
    "plt.plot([0,1], [random_guess,random_guess], linestyle='--', label='random_guess')\n",
    "plt.plot(recall, precision, marker='.', label='Random Forest')\n",
    "plt.scatter(recall[ix], precision[ix], marker='o', color='black', label='Best')\n",
    "\n",
    "# axis labels\n",
    "plt.xlabel('Recall')\n",
    "plt.ylabel('Precision')\n",
    "plt.legend()\n",
    "# show the plot\n",
    "plt.show()"
   ]
  },
  {
   "cell_type": "markdown",
   "metadata": {},
   "source": [
    "# Test set Prediction"
   ]
  },
  {
   "cell_type": "code",
   "execution_count": 62,
   "metadata": {},
   "outputs": [
    {
     "data": {
      "text/plain": [
       "(20, 12)"
      ]
     },
     "execution_count": 62,
     "metadata": {},
     "output_type": "execute_result"
    }
   ],
   "source": [
    "test.shape"
   ]
  },
  {
   "cell_type": "code",
   "execution_count": 63,
   "metadata": {},
   "outputs": [
    {
     "data": {
      "text/plain": [
       "(320, 15)"
      ]
     },
     "execution_count": 63,
     "metadata": {},
     "output_type": "execute_result"
    }
   ],
   "source": [
    "train.shape"
   ]
  },
  {
   "cell_type": "code",
   "execution_count": 64,
   "metadata": {},
   "outputs": [],
   "source": [
    "c1 = train.columns\n",
    "c2 = test.columns\n",
    "cols =  [item for item in c1 if not item in c2]\n",
    "for i in cols:\n",
    "    test[i] = 0"
   ]
  },
  {
   "cell_type": "code",
   "execution_count": 65,
   "metadata": {},
   "outputs": [
    {
     "data": {
      "text/plain": [
       "(20, 15)"
      ]
     },
     "execution_count": 65,
     "metadata": {},
     "output_type": "execute_result"
    }
   ],
   "source": [
    "test.shape"
   ]
  },
  {
   "cell_type": "code",
   "execution_count": 66,
   "metadata": {},
   "outputs": [],
   "source": [
    "# Separte the explanatory variables and the target variable in the test set\n",
    "X_test = test[features]\n",
    "y_test = test[label]"
   ]
  },
  {
   "cell_type": "code",
   "execution_count": 67,
   "metadata": {},
   "outputs": [],
   "source": [
    "predicted_labels_test_with_threshold = (model.predict_proba(X_test)[:,1]>=0.332714).astype(int)"
   ]
  },
  {
   "cell_type": "code",
   "execution_count": 68,
   "metadata": {},
   "outputs": [
    {
     "data": {
      "text/plain": [
       "array([1, 0, 0, 0, 0, 0, 0, 0, 0, 0, 0, 1, 0, 0, 0, 0, 0, 0, 1, 1])"
      ]
     },
     "execution_count": 68,
     "metadata": {},
     "output_type": "execute_result"
    }
   ],
   "source": [
    "predicted_labels_test_with_threshold"
   ]
  },
  {
   "cell_type": "code",
   "execution_count": 69,
   "metadata": {},
   "outputs": [],
   "source": [
    "# Calculate the confusion matrix of the test set prediction\n",
    "cm_test = confusion_matrix(y_test, predicted_labels_test_with_threshold)"
   ]
  },
  {
   "cell_type": "code",
   "execution_count": 70,
   "metadata": {},
   "outputs": [
    {
     "name": "stdout",
     "output_type": "stream",
     "text": [
      "Confusion matrix, without normalization\n"
     ]
    },
    {
     "data": {
      "image/png": "[encoded data removed]",
      "text/plain": [
       "<Figure size 288x288 with 2 Axes>"
      ]
     },
     "metadata": {},
     "output_type": "display_data"
    }
   ],
   "source": [
    "# Make a beautiful plot of the confusion matrix for the test set prediction\n",
    "\n",
    "plt.rcParams[\"figure.figsize\"] = [4,4]\n",
    "classes = [0,1]\n",
    "\n",
    "#classes,\n",
    "fig = plot_confusion_matrix(cm_test, classes,\n",
    "                          normalize=False,\n",
    "                          title='Confusion matrix, without normalization',\n",
    "                          cmap=plt.cm.Blues)"
   ]
  },
  {
   "cell_type": "code",
   "execution_count": 71,
   "metadata": {},
   "outputs": [
    {
     "data": {
      "text/plain": [
       "1.0"
      ]
     },
     "execution_count": 71,
     "metadata": {},
     "output_type": "execute_result"
    }
   ],
   "source": [
    "recall_score(y_test, predicted_labels_test_with_threshold) # Calculate the recall of the test set prediction"
   ]
  },
  {
   "cell_type": "code",
   "execution_count": 72,
   "metadata": {},
   "outputs": [
    {
     "data": {
      "text/plain": [
       "0.75"
      ]
     },
     "execution_count": 72,
     "metadata": {},
     "output_type": "execute_result"
    }
   ],
   "source": [
    "precision_score(y_test, predicted_labels_test_with_threshold) # Calculate the precision of the test set prediction"
   ]
  },
  {
   "cell_type": "code",
   "execution_count": 73,
   "metadata": {},
   "outputs": [
    {
     "data": {
      "text/plain": [
       "0.8571428571428571"
      ]
     },
     "execution_count": 73,
     "metadata": {},
     "output_type": "execute_result"
    }
   ],
   "source": [
    "f1_score(y_test, predicted_labels_test_with_threshold) # Calculate the f1_score of the test set prediction"
   ]
  },
  {
   "cell_type": "code",
   "execution_count": 74,
   "metadata": {},
   "outputs": [
    {
     "data": {
      "text/plain": [
       "0.95"
      ]
     },
     "execution_count": 74,
     "metadata": {},
     "output_type": "execute_result"
    }
   ],
   "source": [
    "accuracy_score(y_test, predicted_labels_test_with_threshold) # Calculate the accuracy of the test set prediction"
   ]
  }
 ],
 "metadata": {
  "kernelspec": {
   "display_name": "Python 3",
   "language": "python",
   "name": "python3"
  },
  "language_info": {
   "codemirror_mode": {
    "name": "ipython",
    "version": 3
   },
   "file_extension": ".py",
   "mimetype": "text/x-python",
   "name": "python",
   "nbconvert_exporter": "python",
   "pygments_lexer": "ipython3",
   "version": "3.8.3"
  }
 },
 "nbformat": 4,
 "nbformat_minor": 2
}
